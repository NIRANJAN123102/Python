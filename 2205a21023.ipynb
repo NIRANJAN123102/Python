{
  "nbformat": 4,
  "nbformat_minor": 0,
  "metadata": {
    "colab": {
      "provenance": [],
      "authorship_tag": "ABX9TyMAQBdlL+4XGhX0qzRAaV1t",
      "include_colab_link": true
    },
    "kernelspec": {
      "name": "python3",
      "display_name": "Python 3"
    },
    "language_info": {
      "name": "python"
    }
  },
  "cells": [
    {
      "cell_type": "markdown",
      "metadata": {
        "id": "view-in-github",
        "colab_type": "text"
      },
      "source": [
        "<a href=\"https://colab.research.google.com/github/NIRANJAN123102/Python/blob/main/2205a21023.ipynb\" target=\"_parent\"><img src=\"https://colab.research.google.com/assets/colab-badge.svg\" alt=\"Open In Colab\"/></a>"
      ]
    },
    {
      "cell_type": "code",
      "source": [
        "cu=int(input(\"enter the current units:\"))\n",
        "pu=int(input(\"enter the previous units:\"))\n",
        "tc=int(input('enter customer type  0 or 1 or 2:'))\n",
        "u=cu-pu\n",
        "ed=0.06*u\n",
        "\n",
        "if(tc==0):\n",
        "  if(u<100):\n",
        "    if(u<50):\n",
        "      ec=1.95*u\n",
        "      fc=10\n",
        "      cc=40\n",
        "    else:\n",
        "      ec=3.10*u\n",
        "      fc=10\n",
        "      cc=70\n",
        "  else:\n",
        "    if(u>100 and u<=200):\n",
        "      ec=100*3.40+(u-100)*4.8\n",
        "      fc=10\n",
        "      cc=90\n",
        "    else:\n",
        "      print(\"it is not supported for heavy usage customers\")\n",
        "if(tc==1):\n",
        "  if(u<50):\n",
        "    ec=7*u\n",
        "    fc=60\n",
        "    cc=50\n",
        "  else:\n",
        "    print(\"this application is not supported\")\n",
        "if(tc>=2):\n",
        "  ec=13*u\n",
        "  fc=70\n",
        "  cc=160\n",
        "bill_amount=ec+cc+fc+ed\n",
        "\n",
        "from datetime import datetime\n",
        "print(\"TGNPDCL\")\n",
        "now=datetime.now()\n",
        "print(now)\n",
        "print(\"Present KWH :\",cu)\n",
        "print(\"Previous KWH :\",pu)\n",
        "print(\"Units Consumed :\",u)\n",
        "print(\"Enery Charges :\",ec)\n",
        "print(\"Fixed Charges :\",fc)\n",
        "print(\"Customer Charges :\",cc)\n",
        "print(\"Electricity Duty Charges :\",ed)\n",
        "print(\"Bill Amount:\",bill_amount)"
      ],
      "metadata": {
        "colab": {
          "base_uri": "https://localhost:8080/"
        },
        "id": "2TSUU3jefrL9",
        "outputId": "f0adb7d5-4181-4500-c924-b3e317de7e17"
      },
      "execution_count": 13,
      "outputs": [
        {
          "output_type": "stream",
          "name": "stdout",
          "text": [
            "enter the current units:152\n",
            "enter the previous units:21\n",
            "enter customer type  0 or 1 or 2:0\n",
            "TGNPDCL\n",
            "2024-09-03 10:52:16.370876\n",
            "Present KWH : 152\n",
            "Previous KWH : 21\n",
            "Units Consumed : 131\n",
            "Enery Charges : 488.79999999999995\n",
            "Fixed Charges : 10\n",
            "Customer Charges : 90\n",
            "Electricity Duty Charges : 7.859999999999999\n",
            "Bill Amount: 596.66\n"
          ]
        }
      ]
    }
  ]
}