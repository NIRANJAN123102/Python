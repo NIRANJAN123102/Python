{
  "nbformat": 4,
  "nbformat_minor": 0,
  "metadata": {
    "colab": {
      "provenance": [],
      "toc_visible": true,
      "authorship_tag": "ABX9TyM6YLCZ/rhawfo2jrC1+JFe",
      "include_colab_link": true
    },
    "kernelspec": {
      "name": "python3",
      "display_name": "Python 3"
    },
    "language_info": {
      "name": "python"
    }
  },
  "cells": [
    {
      "cell_type": "markdown",
      "metadata": {
        "id": "view-in-github",
        "colab_type": "text"
      },
      "source": [
        "<a href=\"https://colab.research.google.com/github/NIRANJAN123102/Python/blob/main/Untitled9.ipynb\" target=\"_parent\"><img src=\"https://colab.research.google.com/assets/colab-badge.svg\" alt=\"Open In Colab\"/></a>"
      ]
    },
    {
      "cell_type": "markdown",
      "source": [
        "## SETS"
      ],
      "metadata": {
        "id": "JPom0wNjwn0G"
      }
    },
    {
      "cell_type": "code",
      "execution_count": 1,
      "metadata": {
        "colab": {
          "base_uri": "https://localhost:8080/"
        },
        "id": "U1kWm0sShfYi",
        "outputId": "a2743063-609a-4a28-b70b-79231200532d"
      },
      "outputs": [
        {
          "output_type": "stream",
          "name": "stdout",
          "text": [
            "{2000, 'rajkumar', 500, 'sonu', 1000, 'srihari', 'Rakesh'}\n"
          ]
        }
      ],
      "source": [
        "Element={\"Rakesh\",\"rajkumar\",\"sonu\",\"srihari\",500,1000,2000}\n",
        "print(Element)"
      ]
    },
    {
      "cell_type": "code",
      "source": [
        "Element={\"Rakesh\",\"rajkumar\",\"sonu\",\"srihari\",500,1000,1000,500}\n",
        "print(Element)\n",
        ""
      ],
      "metadata": {
        "colab": {
          "base_uri": "https://localhost:8080/"
        },
        "id": "t-TA-aeastpd",
        "outputId": "7de1c520-c99e-4455-a709-57659beb5e5d"
      },
      "execution_count": 2,
      "outputs": [
        {
          "output_type": "stream",
          "name": "stdout",
          "text": [
            "{'rajkumar', 500, 'sonu', 1000, 'srihari', 'Rakesh'}\n"
          ]
        }
      ]
    },
    {
      "cell_type": "code",
      "source": [
        "bool_values={True,False,1,0}\n",
        "print(bool_values)\n",
        "print(len(bool_values))\n",
        ""
      ],
      "metadata": {
        "colab": {
          "base_uri": "https://localhost:8080/"
        },
        "id": "pnr5ODkCs0rd",
        "outputId": "e8f98f6d-2eef-496d-9451-69814372d6a1"
      },
      "execution_count": 3,
      "outputs": [
        {
          "output_type": "stream",
          "name": "stdout",
          "text": [
            "{False, True}\n",
            "2\n"
          ]
        }
      ]
    },
    {
      "cell_type": "code",
      "source": [
        "a={\"Rakesh\",\"sonu\"}\n",
        "b={1,2,3,4,5,}\n",
        "c={True,False}\n",
        "print(a)\n",
        "print(b)\n",
        "print(c)\n",
        "print(len(a))\n",
        "print(len(b))\n",
        "print(len(c))"
      ],
      "metadata": {
        "colab": {
          "base_uri": "https://localhost:8080/"
        },
        "id": "AhAOhHubs7Ul",
        "outputId": "00f25ef8-9975-4c61-f869-dbce65beddb8"
      },
      "execution_count": 4,
      "outputs": [
        {
          "output_type": "stream",
          "name": "stdout",
          "text": [
            "{'sonu', 'Rakesh'}\n",
            "{1, 2, 3, 4, 5}\n",
            "{False, True}\n",
            "2\n",
            "5\n",
            "2\n"
          ]
        }
      ]
    },
    {
      "cell_type": "code",
      "source": [
        "Element={\"Rakesh\",\"rajkumar\",\"sonu\",\"srihari\",500,1000,1000,500}\n",
        "print(Element)\n",
        "print(type(Element))"
      ],
      "metadata": {
        "colab": {
          "base_uri": "https://localhost:8080/"
        },
        "id": "12CnOzbdtAMl",
        "outputId": "d7d32f1c-506a-47b0-f115-67ecac1a99c6"
      },
      "execution_count": 5,
      "outputs": [
        {
          "output_type": "stream",
          "name": "stdout",
          "text": [
            "{'rajkumar', 500, 'sonu', 1000, 'srihari', 'Rakesh'}\n",
            "<class 'set'>\n"
          ]
        }
      ]
    },
    {
      "cell_type": "code",
      "source": [
        "Element=set((\"Rakesh\",\"rajkumar\",\"sonu\",\"srihari\",500,1000,1000,500))\n",
        "print(Element)\n",
        "print(type(Element))"
      ],
      "metadata": {
        "colab": {
          "base_uri": "https://localhost:8080/"
        },
        "id": "zNV99mBmtFlm",
        "outputId": "cb921341-c737-4203-a369-0c4b1407c073"
      },
      "execution_count": 6,
      "outputs": [
        {
          "output_type": "stream",
          "name": "stdout",
          "text": [
            "{'sonu', 1000, 'srihari', 'Rakesh', 'rajkumar', 500}\n",
            "<class 'set'>\n"
          ]
        }
      ]
    },
    {
      "cell_type": "code",
      "source": [
        "Element=set((\"Rakesh\",\"rajkumar\",\"sonu\",\"srihari\",500,1000,1000,500))\n",
        "for value in Element:\n",
        "  print(value)"
      ],
      "metadata": {
        "colab": {
          "base_uri": "https://localhost:8080/"
        },
        "id": "vE6YGQaltKld",
        "outputId": "fb14f917-d30a-4a8f-90a3-c6d5640bc510"
      },
      "execution_count": 7,
      "outputs": [
        {
          "output_type": "stream",
          "name": "stdout",
          "text": [
            "sonu\n",
            "1000\n",
            "srihari\n",
            "Rakesh\n",
            "rajkumar\n",
            "500\n"
          ]
        }
      ]
    },
    {
      "cell_type": "code",
      "source": [
        "Element=set((\"Rakesh\",\"rajkumar\",\"sonu\",\"srihari\",500,1000,1000,500))\n",
        "print(\"Rakesh\" in Element)\n",
        "print(\"rajkumar\" not in Element)\n",
        ""
      ],
      "metadata": {
        "colab": {
          "base_uri": "https://localhost:8080/"
        },
        "id": "9iMJ9OpKtQs-",
        "outputId": "1c3fb996-4727-4388-a2b0-fb570bf62f81"
      },
      "execution_count": 8,
      "outputs": [
        {
          "output_type": "stream",
          "name": "stdout",
          "text": [
            "True\n",
            "False\n"
          ]
        }
      ]
    },
    {
      "cell_type": "code",
      "source": [
        "Element={\"Rakesh\",\"rajkumar\",\"sonu\",\"srihari\"}\n",
        "print(Element)\n",
        "Element.add(\"das\")\n",
        "print(Element)"
      ],
      "metadata": {
        "colab": {
          "base_uri": "https://localhost:8080/"
        },
        "id": "fatfPu6_tTHu",
        "outputId": "f67933db-34fa-4111-bba2-da464e0c3fe6"
      },
      "execution_count": 9,
      "outputs": [
        {
          "output_type": "stream",
          "name": "stdout",
          "text": [
            "{'sonu', 'srihari', 'rajkumar', 'Rakesh'}\n",
            "{'sonu', 'srihari', 'Rakesh', 'rajkumar', 'das'}\n"
          ]
        }
      ]
    },
    {
      "cell_type": "code",
      "source": [
        "Element={\"Rakesh\",\"rajkumar\",\"sonu\",\"srihari\"}\n",
        "point={\"mango\",\"apple\",\"banana\"}\n",
        "Element.update(point)\n",
        "print(Element)"
      ],
      "metadata": {
        "colab": {
          "base_uri": "https://localhost:8080/"
        },
        "id": "wMRxCQaFtZee",
        "outputId": "9344d38c-96ab-4335-aa8f-a93c91477f77"
      },
      "execution_count": 10,
      "outputs": [
        {
          "output_type": "stream",
          "name": "stdout",
          "text": [
            "{'rajkumar', 'apple', 'banana', 'sonu', 'mango', 'srihari', 'Rakesh'}\n"
          ]
        }
      ]
    },
    {
      "cell_type": "code",
      "source": [
        "Element={\"Rakesh\",\"rajkumar\",\"sonu\",\"srihari\"}\n",
        "Element.remove(\"rajkumar\")\n",
        "print(Element)"
      ],
      "metadata": {
        "colab": {
          "base_uri": "https://localhost:8080/"
        },
        "id": "NC_cU0GetdO2",
        "outputId": "478e18f4-a568-464e-e790-a83fc2b261fb"
      },
      "execution_count": 11,
      "outputs": [
        {
          "output_type": "stream",
          "name": "stdout",
          "text": [
            "{'sonu', 'srihari', 'Rakesh'}\n"
          ]
        }
      ]
    },
    {
      "cell_type": "code",
      "source": [
        "Element={\"Rakesh\",\"rajkumar\",\"sonu\",\"srihari\"}\n",
        "Element.discard(\"rajkumar\")\n",
        "print(Element)\n",
        ""
      ],
      "metadata": {
        "colab": {
          "base_uri": "https://localhost:8080/"
        },
        "id": "H1jUUqvetfQ1",
        "outputId": "97da9c13-2585-455c-c996-b3bd8102d8be"
      },
      "execution_count": 12,
      "outputs": [
        {
          "output_type": "stream",
          "name": "stdout",
          "text": [
            "{'sonu', 'srihari', 'Rakesh'}\n"
          ]
        }
      ]
    },
    {
      "cell_type": "code",
      "source": [
        "Element={\"Rakesh\",\"rajkumar\",\"sonu\",\"srihari\"}\n",
        "a=Element.pop()\n",
        "print(a)\n",
        "print(Element)"
      ],
      "metadata": {
        "colab": {
          "base_uri": "https://localhost:8080/"
        },
        "id": "bGhaiQTHtj7V",
        "outputId": "8e4ae243-9e59-4d2b-8e76-59a3308486a6"
      },
      "execution_count": 13,
      "outputs": [
        {
          "output_type": "stream",
          "name": "stdout",
          "text": [
            "sonu\n",
            "{'srihari', 'rajkumar', 'Rakesh'}\n"
          ]
        }
      ]
    },
    {
      "cell_type": "code",
      "source": [
        "Element={\"Rakesh\",\"rajkumar\",\"sonu\",\"srihari\"}\n",
        "Element.clear()\n",
        "print(Element)\n",
        ""
      ],
      "metadata": {
        "colab": {
          "base_uri": "https://localhost:8080/"
        },
        "id": "8jgGkj1utqeN",
        "outputId": "d104d68b-7d33-4371-f02b-3dd70a017402"
      },
      "execution_count": 14,
      "outputs": [
        {
          "output_type": "stream",
          "name": "stdout",
          "text": [
            "set()\n"
          ]
        }
      ]
    },
    {
      "cell_type": "code",
      "source": [
        "Element={\"Rakesh\",\"rajkumar\",\"sonu\",\"srihari\"}\n",
        "for value in Element:\n",
        "  print(value)"
      ],
      "metadata": {
        "colab": {
          "base_uri": "https://localhost:8080/"
        },
        "id": "bjrvwduhturQ",
        "outputId": "7e8420c9-a937-4f5d-fc98-11eeaacda305"
      },
      "execution_count": 15,
      "outputs": [
        {
          "output_type": "stream",
          "name": "stdout",
          "text": [
            "sonu\n",
            "srihari\n",
            "rajkumar\n",
            "Rakesh\n"
          ]
        }
      ]
    },
    {
      "cell_type": "markdown",
      "source": [],
      "metadata": {
        "id": "eVeGIIG_wl9-"
      }
    },
    {
      "cell_type": "markdown",
      "source": [
        "# ***LIST***"
      ],
      "metadata": {
        "id": "ECIkbyXMwehW"
      }
    },
    {
      "cell_type": "code",
      "source": [
        "list=['rakesh','2003']\n",
        "print(list)\n",
        "del list[1]\n",
        "print(list)"
      ],
      "metadata": {
        "colab": {
          "base_uri": "https://localhost:8080/"
        },
        "id": "6GS2QETVtwcF",
        "outputId": "4959604c-bfb7-4a32-c891-f87f6f068793"
      },
      "execution_count": 16,
      "outputs": [
        {
          "output_type": "stream",
          "name": "stdout",
          "text": [
            "['rakesh', '2003']\n",
            "['rakesh']\n"
          ]
        }
      ]
    },
    {
      "cell_type": "code",
      "source": [
        "name=[\"Rakesh\",'manji','suvali']\n",
        "DOB=[2003,2004,2005]\n",
        "print(\"name with maximum character\",max(name))\n",
        "print(\"name with minimum character\",min(name))\n",
        "print(\"DOB with maximum character\",max(DOB))\n",
        "print(\"DOB with minimum character\",min(DOB))\n",
        ""
      ],
      "metadata": {
        "colab": {
          "base_uri": "https://localhost:8080/"
        },
        "id": "HJ7w9kKIt-EN",
        "outputId": "61e06f68-07fa-4ddb-896e-e3aeaeb9d9b4"
      },
      "execution_count": 17,
      "outputs": [
        {
          "output_type": "stream",
          "name": "stdout",
          "text": [
            "name with maximum character suvali\n",
            "name with minimum character Rakesh\n",
            "DOB with maximum character 2005\n",
            "DOB with minimum character 2003\n"
          ]
        }
      ]
    },
    {
      "cell_type": "code",
      "source": [
        "name=['rakesh','suvalli']\n",
        "print(\"member: \",name)\n",
        "name.insert(1,\"manji\")\n",
        "print(\"member: \",name)\n",
        ""
      ],
      "metadata": {
        "colab": {
          "base_uri": "https://localhost:8080/"
        },
        "id": "xznL9D6xt_qG",
        "outputId": "97383c05-d50a-410b-b0b7-40c6eafdb0d7"
      },
      "execution_count": 18,
      "outputs": [
        {
          "output_type": "stream",
          "name": "stdout",
          "text": [
            "member:  ['rakesh', 'suvalli']\n",
            "member:  ['rakesh', 'manji', 'suvalli']\n"
          ]
        }
      ]
    },
    {
      "cell_type": "code",
      "source": [
        "name=['rakesh','suvalli',\"manji\"]\n",
        "print(\"member: \",name)\n",
        "name.pop()\n",
        "print(\"member: \",name)\n",
        "name.pop(1)\n",
        "print(\"member: \",name)\n",
        ""
      ],
      "metadata": {
        "colab": {
          "base_uri": "https://localhost:8080/"
        },
        "id": "oFzOvFs8uEvW",
        "outputId": "a7d5f87a-aae2-4680-d17c-37b17053bc5d"
      },
      "execution_count": 19,
      "outputs": [
        {
          "output_type": "stream",
          "name": "stdout",
          "text": [
            "member:  ['rakesh', 'suvalli', 'manji']\n",
            "member:  ['rakesh', 'suvalli']\n",
            "member:  ['rakesh']\n"
          ]
        }
      ]
    },
    {
      "cell_type": "code",
      "source": [
        "name=['rakesh','suvalli',\"manji\"]\n",
        "print(\"member: \",name)\n",
        "name.remove(\"manji\")\n",
        "print(\"member: \",name)"
      ],
      "metadata": {
        "colab": {
          "base_uri": "https://localhost:8080/"
        },
        "id": "A61nJJ2duM_3",
        "outputId": "4c5a4bbe-3cea-4cad-eb78-3110679a2b02"
      },
      "execution_count": 20,
      "outputs": [
        {
          "output_type": "stream",
          "name": "stdout",
          "text": [
            "member:  ['rakesh', 'suvalli', 'manji']\n",
            "member:  ['rakesh', 'suvalli']\n"
          ]
        }
      ]
    },
    {
      "cell_type": "code",
      "source": [
        "name=['rakesh','suvalli',\"manji\"]\n",
        "print(\"member: \",name)\n",
        "name.reverse()\n",
        "print(\"member: \",name)\n",
        ""
      ],
      "metadata": {
        "colab": {
          "base_uri": "https://localhost:8080/"
        },
        "id": "GHor9A08uRaG",
        "outputId": "a6e9a188-c308-4e36-95a5-85ddf8109998"
      },
      "execution_count": 21,
      "outputs": [
        {
          "output_type": "stream",
          "name": "stdout",
          "text": [
            "member:  ['rakesh', 'suvalli', 'manji']\n",
            "member:  ['manji', 'suvalli', 'rakesh']\n"
          ]
        }
      ]
    },
    {
      "cell_type": "code",
      "source": [
        "name=['rakesh','suvalli',\"manji\"]\n",
        "print(\"member: \",name)\n",
        "name.sort()\n",
        "print(\"member: \",name)"
      ],
      "metadata": {
        "colab": {
          "base_uri": "https://localhost:8080/"
        },
        "id": "aZ5UW9s3uUgO",
        "outputId": "7839df70-873b-4de6-d1e8-e323e8e7a909"
      },
      "execution_count": 22,
      "outputs": [
        {
          "output_type": "stream",
          "name": "stdout",
          "text": [
            "member:  ['rakesh', 'suvalli', 'manji']\n",
            "member:  ['manji', 'rakesh', 'suvalli']\n"
          ]
        }
      ]
    },
    {
      "cell_type": "markdown",
      "source": [
        "### **TUPLES**"
      ],
      "metadata": {
        "id": "W9lWcTa6wSml"
      }
    },
    {
      "cell_type": "code",
      "source": [
        "tuple=(\"rakesh\",\"vikram\",\"ajay\",\"ambadas\")\n",
        "print(tuple)\n",
        "print(tuple[0])\n",
        "print(tuple[0:2])\n",
        "print(tuple[0:])\n",
        "print(tuple[::-1])\n",
        "print(tuple[2:0:-1])\n",
        ""
      ],
      "metadata": {
        "colab": {
          "base_uri": "https://localhost:8080/"
        },
        "id": "GRPuSlgduWi-",
        "outputId": "20e6c852-e353-42a2-e115-00307b3cd103"
      },
      "execution_count": 23,
      "outputs": [
        {
          "output_type": "stream",
          "name": "stdout",
          "text": [
            "('rakesh', 'vikram', 'ajay', 'ambadas')\n",
            "rakesh\n",
            "('rakesh', 'vikram')\n",
            "('rakesh', 'vikram', 'ajay', 'ambadas')\n",
            "('ambadas', 'ajay', 'vikram', 'rakesh')\n",
            "('ajay', 'vikram')\n"
          ]
        }
      ]
    },
    {
      "cell_type": "code",
      "source": [
        "tuple=(\"rakesh\",\"vikram\",\"ajay\",\"ambadas\")\n",
        "tg=(200,2004,2002)\n",
        "print(tuple*2)\n",
        "print(tuple+tg)\n",
        "list=[\"pavan\",\"phanindra\",\"rahul\"]\n",
        "print(list)\n",
        "list[0]=\"rajkumar\"\n",
        "print(list)"
      ],
      "metadata": {
        "colab": {
          "base_uri": "https://localhost:8080/"
        },
        "id": "sHvk_svBubqG",
        "outputId": "4fb9429c-201a-492d-feac-2a7f26a5fe69"
      },
      "execution_count": 24,
      "outputs": [
        {
          "output_type": "stream",
          "name": "stdout",
          "text": [
            "('rakesh', 'vikram', 'ajay', 'ambadas', 'rakesh', 'vikram', 'ajay', 'ambadas')\n",
            "('rakesh', 'vikram', 'ajay', 'ambadas', 200, 2004, 2002)\n",
            "['pavan', 'phanindra', 'rahul']\n",
            "['rajkumar', 'phanindra', 'rahul']\n"
          ]
        }
      ]
    },
    {
      "cell_type": "markdown",
      "source": [
        "# **DICTIONARY**"
      ],
      "metadata": {
        "id": "S5g7gDkRwHJN"
      }
    },
    {
      "cell_type": "code",
      "source": [
        "dict={}\n",
        "print(dict)\n",
        "dict[\"one\"]=\"my opinon is my own\"\n",
        "print(dict)\n",
        "dict[\"2\"]=\"my self\"\n",
        "print(dict)\n",
        "print(dict.keys())\n",
        "print(dict.values())\n",
        "\n"
      ],
      "metadata": {
        "colab": {
          "base_uri": "https://localhost:8080/"
        },
        "id": "vCq6ZqE4ugFm",
        "outputId": "c64736a6-910e-4843-d06f-2eb6f7e36f83"
      },
      "execution_count": 25,
      "outputs": [
        {
          "output_type": "stream",
          "name": "stdout",
          "text": [
            "{}\n",
            "{'one': 'my opinon is my own'}\n",
            "{'one': 'my opinon is my own', '2': 'my self'}\n",
            "dict_keys(['one', '2'])\n",
            "dict_values(['my opinon is my own', 'my self'])\n"
          ]
        }
      ]
    },
    {
      "cell_type": "code",
      "source": [
        "base={\"name\":\"rakesh\",\"marks\":848}\n",
        "print(base)\n",
        "print(base[\"name\"])\n",
        "print(base[\"marks\"])\n",
        "base[\"marks\"]=900\n",
        "print(base)\n",
        "base[\"name\"]=\"sonu\"\n",
        "print(base)\n",
        "print(base.keys())\n",
        "print(base.values())\n",
        ""
      ],
      "metadata": {
        "colab": {
          "base_uri": "https://localhost:8080/"
        },
        "id": "7Z2aEAB5ulUG",
        "outputId": "61b2c612-c437-4021-bc1b-2eea0102be08"
      },
      "execution_count": 26,
      "outputs": [
        {
          "output_type": "stream",
          "name": "stdout",
          "text": [
            "{'name': 'rakesh', 'marks': 848}\n",
            "rakesh\n",
            "848\n",
            "{'name': 'rakesh', 'marks': 900}\n",
            "{'name': 'sonu', 'marks': 900}\n",
            "dict_keys(['name', 'marks'])\n",
            "dict_values(['sonu', 900])\n"
          ]
        }
      ]
    }
  ]
}