{
  "nbformat": 4,
  "nbformat_minor": 0,
  "metadata": {
    "colab": {
      "provenance": [],
      "authorship_tag": "ABX9TyOJUhCxher+xSXyewOYHAsU",
      "include_colab_link": true
    },
    "kernelspec": {
      "name": "python3",
      "display_name": "Python 3"
    },
    "language_info": {
      "name": "python"
    }
  },
  "cells": [
    {
      "cell_type": "markdown",
      "metadata": {
        "id": "view-in-github",
        "colab_type": "text"
      },
      "source": [
        "<a href=\"https://colab.research.google.com/github/NIRANJAN123102/Python/blob/main/2205a21023_assignment_6.ipynb\" target=\"_parent\"><img src=\"https://colab.research.google.com/assets/colab-badge.svg\" alt=\"Open In Colab\"/></a>"
      ]
    },
    {
      "cell_type": "code",
      "source": [
        "#Pattern 1\n",
        "#For Loop\n",
        "n=int(input(\"enter the value: \"))\n",
        "for i in range(n,0,-1):\n",
        "  for j in range(i):\n",
        "    print(\"+\",end=\"\")\n",
        "  print()"
      ],
      "metadata": {
        "colab": {
          "base_uri": "https://localhost:8080/"
        },
        "id": "3VejqANfmgpi",
        "outputId": "322622fb-e6b8-413f-9dff-2b9235e4200c"
      },
      "execution_count": 42,
      "outputs": [
        {
          "output_type": "stream",
          "name": "stdout",
          "text": [
            "enter the value: 6\n",
            "++++++\n",
            "+++++\n",
            "++++\n",
            "+++\n",
            "++\n",
            "+\n"
          ]
        }
      ]
    },
    {
      "cell_type": "code",
      "source": [
        "#Pattern 2\n",
        "#For Loop\n",
        "n=int(input(\"enter the value: \"))\n",
        "for i in range(n):\n",
        "  for j in range(i+1):\n",
        "    print(\"*\",end=\"\")\n",
        "  print(\"\\n\")\n",
        "\n"
      ],
      "metadata": {
        "colab": {
          "base_uri": "https://localhost:8080/"
        },
        "id": "1__RehqEmsPK",
        "outputId": "50bc8c07-3a51-4adb-f169-7fb54d9b07c4"
      },
      "execution_count": 43,
      "outputs": [
        {
          "output_type": "stream",
          "name": "stdout",
          "text": [
            "enter the value: 6\n",
            "*\n",
            "\n",
            "**\n",
            "\n",
            "***\n",
            "\n",
            "****\n",
            "\n",
            "*****\n",
            "\n",
            "******\n",
            "\n"
          ]
        }
      ]
    },
    {
      "cell_type": "code",
      "source": [
        "#Pattern 2\n",
        "#While Loop\n",
        "n=int(input(\"enter the value: \"))\n",
        "i=1\n",
        "while i<=n:\n",
        "  j=1\n",
        "  while j<=i:\n",
        "    print(\"*\",end=\"\")\n",
        "    j+=1\n",
        "  print(\"\\n\")\n",
        "  i+=1\n",
        "\n",
        "\n",
        ""
      ],
      "metadata": {
        "colab": {
          "base_uri": "https://localhost:8080/"
        },
        "id": "qDyXnhHWmzqR",
        "outputId": "7ccfc362-6cd5-4bdf-99e8-2a5802ecb10a"
      },
      "execution_count": 44,
      "outputs": [
        {
          "output_type": "stream",
          "name": "stdout",
          "text": [
            "enter the value: 6\n",
            "*\n",
            "\n",
            "**\n",
            "\n",
            "***\n",
            "\n",
            "****\n",
            "\n",
            "*****\n",
            "\n",
            "******\n",
            "\n"
          ]
        }
      ]
    },
    {
      "cell_type": "code",
      "source": [
        "#Pattern 3\n",
        "#While Loop\n",
        "rows = int(input(\"Enter the value: \"))\n",
        "i = 1\n",
        "while i <= rows:\n",
        "    j = rows - i\n",
        "    while j > 0:\n",
        "        print(\" \", end=\"\")\n",
        "        j -= 1\n",
        "    k = i\n",
        "    while k > 0:\n",
        "        print(\"*\", end=\"\")\n",
        "        k -= 1\n",
        "    print()\n",
        "    i += 1\n",
        "\n"
      ],
      "metadata": {
        "colab": {
          "base_uri": "https://localhost:8080/"
        },
        "id": "g2WZzwvCm7H5",
        "outputId": "a477e5c6-8ea5-450a-ea77-72c233b2632a"
      },
      "execution_count": 45,
      "outputs": [
        {
          "output_type": "stream",
          "name": "stdout",
          "text": [
            "Enter the value: 6\n",
            "     *\n",
            "    **\n",
            "   ***\n",
            "  ****\n",
            " *****\n",
            "******\n"
          ]
        }
      ]
    },
    {
      "cell_type": "code",
      "source": [
        "#Pattern 3\n",
        "#For Loop\n",
        "rows = int(input(\"Enter the value: \"))\n",
        "for i in range(1, rows + 1):\n",
        "    for j in range(rows - i):\n",
        "        print(\" \", end=\"\")\n",
        "    for k in range(i):\n",
        "        print(\"*\", end=\"\")\n",
        "    print()"
      ],
      "metadata": {
        "colab": {
          "base_uri": "https://localhost:8080/"
        },
        "id": "E-FiG7rvnDAx",
        "outputId": "20e9e3a1-5379-4a0b-bd81-dc32767e7741"
      },
      "execution_count": 46,
      "outputs": [
        {
          "output_type": "stream",
          "name": "stdout",
          "text": [
            "Enter the value: 6\n",
            "     *\n",
            "    **\n",
            "   ***\n",
            "  ****\n",
            " *****\n",
            "******\n"
          ]
        }
      ]
    },
    {
      "cell_type": "code",
      "source": [
        "#Pattern 4\n",
        "#For Loop\n",
        "n = int(input(\"Enter the value: \"))\n",
        "for i in range(n):\n",
        "    for j in range(i):\n",
        "        print(\" \", end=\"\")\n",
        "    for k in range(n - i):\n",
        "        print(\"+\", end=\"\")\n",
        "    print()"
      ],
      "metadata": {
        "colab": {
          "base_uri": "https://localhost:8080/"
        },
        "id": "EcM78QK3nHnh",
        "outputId": "5d9cb789-b0b5-40f4-8a37-7e9fa76d06a1"
      },
      "execution_count": 47,
      "outputs": [
        {
          "output_type": "stream",
          "name": "stdout",
          "text": [
            "Enter the value: 6\n",
            "++++++\n",
            " +++++\n",
            "  ++++\n",
            "   +++\n",
            "    ++\n",
            "     +\n"
          ]
        }
      ]
    },
    {
      "cell_type": "code",
      "source": [
        "#Pattern 4\n",
        "#While Loop\n",
        "n = int(input(\"Enter the value: \"))\n",
        "i = 0\n",
        "while i < n:\n",
        "    j = 0\n",
        "    while j < i:\n",
        "        print(\" \", end=\"\")\n",
        "        j += 1\n",
        "    k = 0\n",
        "    while k < (n - i):\n",
        "        print(\"+\", end=\"\")\n",
        "        k += 1\n",
        "    print()\n",
        "    i += 1"
      ],
      "metadata": {
        "colab": {
          "base_uri": "https://localhost:8080/"
        },
        "id": "cvatr93knMUa",
        "outputId": "aa8a65e2-eb1b-416c-a51b-7431e4738b49"
      },
      "execution_count": 48,
      "outputs": [
        {
          "output_type": "stream",
          "name": "stdout",
          "text": [
            "Enter the value: 6\n",
            "++++++\n",
            " +++++\n",
            "  ++++\n",
            "   +++\n",
            "    ++\n",
            "     +\n"
          ]
        }
      ]
    }
  ]
}